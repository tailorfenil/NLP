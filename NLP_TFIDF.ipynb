{
  "nbformat": 4,
  "nbformat_minor": 0,
  "metadata": {
    "colab": {
      "provenance": [],
      "gpuType": "T4",
      "authorship_tag": "ABX9TyNAQ9nIStntUcircQjZx9Qb",
      "include_colab_link": true
    },
    "kernelspec": {
      "name": "python3",
      "display_name": "Python 3"
    },
    "language_info": {
      "name": "python"
    },
    "accelerator": "GPU"
  },
  "cells": [
    {
      "cell_type": "markdown",
      "metadata": {
        "id": "view-in-github",
        "colab_type": "text"
      },
      "source": [
        "<a href=\"https://colab.research.google.com/github/tailorfenil/NLP/blob/NLP-1/NLP_TFIDF.ipynb\" target=\"_parent\"><img src=\"https://colab.research.google.com/assets/colab-badge.svg\" alt=\"Open In Colab\"/></a>"
      ]
    },
    {
      "cell_type": "code",
      "source": [
        "from sklearn.feature_extraction.text import TfidfVectorizer\n",
        "from sklearn.metrics.pairwise import cosine_similarity\n",
        "import pickle"
      ],
      "metadata": {
        "id": "HzPDGKuL3fGZ"
      },
      "execution_count": null,
      "outputs": []
    },
    {
      "cell_type": "code",
      "execution_count": null,
      "metadata": {
        "colab": {
          "base_uri": "https://localhost:8080/"
        },
        "id": "iYgFyRL7t3Jm",
        "outputId": "ccbfeab7-e899-4c0a-ffaf-bd9f933e9759"
      },
      "outputs": [
        {
          "output_type": "stream",
          "name": "stdout",
          "text": [
            "Mounted at /content/drive\n"
          ]
        }
      ],
      "source": [
        "from google.colab import drive\n",
        "drive.mount('/content/drive')"
      ]
    },
    {
      "cell_type": "code",
      "source": [
        "assets_dir = '/content/drive/MyDrive/NLP1/'"
      ],
      "metadata": {
        "id": "CX9rbxDtwqVW"
      },
      "execution_count": null,
      "outputs": []
    },
    {
      "cell_type": "code",
      "source": [
        "file_path = assets_dir + \"Dataset/\""
      ],
      "metadata": {
        "id": "_SUSX8yVwzXf"
      },
      "execution_count": null,
      "outputs": []
    },
    {
      "cell_type": "code",
      "source": [
        "!pip install tika PyPDF2 scikit-learn gensim pandas"
      ],
      "metadata": {
        "colab": {
          "base_uri": "https://localhost:8080/"
        },
        "collapsed": true,
        "id": "D-r7bGhkxQR0",
        "outputId": "5d4d5f7c-11c7-43f2-b9a5-15138eafd395"
      },
      "execution_count": null,
      "outputs": [
        {
          "output_type": "stream",
          "name": "stdout",
          "text": [
            "Collecting tika\n",
            "  Downloading tika-2.6.0.tar.gz (27 kB)\n",
            "  Preparing metadata (setup.py) ... \u001b[?25l\u001b[?25hdone\n",
            "Collecting PyPDF2\n",
            "  Downloading pypdf2-3.0.1-py3-none-any.whl (232 kB)\n",
            "\u001b[2K     \u001b[90m━━━━━━━━━━━━━━━━━━━━━━━━━━━━━━━━━━━━━━━━\u001b[0m \u001b[32m232.6/232.6 kB\u001b[0m \u001b[31m2.2 MB/s\u001b[0m eta \u001b[36m0:00:00\u001b[0m\n",
            "\u001b[?25hRequirement already satisfied: scikit-learn in /usr/local/lib/python3.10/dist-packages (1.2.2)\n",
            "Requirement already satisfied: gensim in /usr/local/lib/python3.10/dist-packages (4.3.2)\n",
            "Requirement already satisfied: pandas in /usr/local/lib/python3.10/dist-packages (2.0.3)\n",
            "Requirement already satisfied: setuptools in /usr/local/lib/python3.10/dist-packages (from tika) (67.7.2)\n",
            "Requirement already satisfied: requests in /usr/local/lib/python3.10/dist-packages (from tika) (2.31.0)\n",
            "Requirement already satisfied: numpy>=1.17.3 in /usr/local/lib/python3.10/dist-packages (from scikit-learn) (1.25.2)\n",
            "Requirement already satisfied: scipy>=1.3.2 in /usr/local/lib/python3.10/dist-packages (from scikit-learn) (1.11.4)\n",
            "Requirement already satisfied: joblib>=1.1.1 in /usr/local/lib/python3.10/dist-packages (from scikit-learn) (1.4.2)\n",
            "Requirement already satisfied: threadpoolctl>=2.0.0 in /usr/local/lib/python3.10/dist-packages (from scikit-learn) (3.5.0)\n",
            "Requirement already satisfied: smart-open>=1.8.1 in /usr/local/lib/python3.10/dist-packages (from gensim) (6.4.0)\n",
            "Requirement already satisfied: python-dateutil>=2.8.2 in /usr/local/lib/python3.10/dist-packages (from pandas) (2.8.2)\n",
            "Requirement already satisfied: pytz>=2020.1 in /usr/local/lib/python3.10/dist-packages (from pandas) (2023.4)\n",
            "Requirement already satisfied: tzdata>=2022.1 in /usr/local/lib/python3.10/dist-packages (from pandas) (2024.1)\n",
            "Requirement already satisfied: six>=1.5 in /usr/local/lib/python3.10/dist-packages (from python-dateutil>=2.8.2->pandas) (1.16.0)\n",
            "Requirement already satisfied: charset-normalizer<4,>=2 in /usr/local/lib/python3.10/dist-packages (from requests->tika) (3.3.2)\n",
            "Requirement already satisfied: idna<4,>=2.5 in /usr/local/lib/python3.10/dist-packages (from requests->tika) (3.7)\n",
            "Requirement already satisfied: urllib3<3,>=1.21.1 in /usr/local/lib/python3.10/dist-packages (from requests->tika) (2.0.7)\n",
            "Requirement already satisfied: certifi>=2017.4.17 in /usr/local/lib/python3.10/dist-packages (from requests->tika) (2024.2.2)\n",
            "Building wheels for collected packages: tika\n",
            "  Building wheel for tika (setup.py) ... \u001b[?25l\u001b[?25hdone\n",
            "  Created wheel for tika: filename=tika-2.6.0-py3-none-any.whl size=32621 sha256=ed4b8956e915d3b716e929c287e5c1d6b97bbf054401f3f55465afdf5120fa5a\n",
            "  Stored in directory: /root/.cache/pip/wheels/5f/71/c7/b757709531121b1700cffda5b6b0d4aad095fb507ec84316d0\n",
            "Successfully built tika\n",
            "Installing collected packages: PyPDF2, tika\n",
            "Successfully installed PyPDF2-3.0.1 tika-2.6.0\n"
          ]
        }
      ]
    },
    {
      "cell_type": "code",
      "source": [
        "import os\n",
        "from tika import parser\n",
        "\n",
        "# Function to parse PDFs using Tika\n",
        "def parse_pdf_tika(file_path):\n",
        "    try:\n",
        "        raw = parser.from_file(file_path)\n",
        "        return raw['content'] if raw['content'] else \"\"\n",
        "    except Exception as e:\n",
        "        print(f\"Error parsing {file_path}: {e}\")\n",
        "        return \"\"\n",
        "\n",
        "\n",
        "# Base path to your papers directory\n",
        "base_path = file_path\n",
        "print(base_path)\n",
        "\n",
        "# Parse all PDFs in the directory structure\n",
        "author_papers = []\n",
        "for author_name in os.listdir(base_path):\n",
        "    author_dir = os.path.join(base_path, author_name)\n",
        "    if os.path.isdir(author_dir):\n",
        "        for filename in os.listdir(author_dir):\n",
        "            print(filename)\n",
        "            if filename.endswith('.pdf'):\n",
        "                file_path = os.path.join(author_dir, filename)\n",
        "                print(file_path)\n",
        "                content = parse_pdf_tika(file_path)\n",
        "                author_papers.append({'author': author_name, 'filename': filename, 'content': content})\n",
        "\n",
        "print(author_papers[:2])  # Display first two parsed papers"
      ],
      "metadata": {
        "collapsed": true,
        "id": "DNoZy-VNw_pQ"
      },
      "execution_count": null,
      "outputs": []
    },
    {
      "cell_type": "code",
      "source": [
        "import pickle\n",
        "def save_to_drive(obj, filename):\n",
        "    with open(filename, 'wb') as file:\n",
        "        pickle.dump(obj, file)\n",
        "    drive_path = '/content/drive/MyDrive/NLP1/' + filename\n",
        "    !cp {filename} {drive_path}\n",
        "    print(f'{filename} saved to {drive_path}')\n",
        "\n",
        "save_to_drive(author_papers, 'author_papers.pkl')"
      ],
      "metadata": {
        "colab": {
          "base_uri": "https://localhost:8080/"
        },
        "id": "eGX4zTAv2v3x",
        "outputId": "b7217a5c-de27-4497-fda8-65beb025285f"
      },
      "execution_count": 32,
      "outputs": [
        {
          "output_type": "stream",
          "name": "stdout",
          "text": [
            "author_papers.pkl saved to /content/drive/MyDrive/NLP1/author_papers.pkl\n"
          ]
        }
      ]
    },
    {
      "cell_type": "code",
      "source": [
        "# Function to load an object from Google Drive\n",
        "def load_from_drive(filename):\n",
        "    drive_path = '/content/drive/MyDrive/NLP1/' + filename\n",
        "    !cp {drive_path} {filename}\n",
        "    with open(filename, 'rb') as file:\n",
        "        obj = pickle.load(file)\n",
        "    return obj"
      ],
      "metadata": {
        "id": "8lfbXuEbQUI8"
      },
      "execution_count": 33,
      "outputs": []
    },
    {
      "cell_type": "code",
      "source": [
        "author_papers = load_from_drive('author_papers.pkl')"
      ],
      "metadata": {
        "id": "eF8cv7TVPROc"
      },
      "execution_count": 34,
      "outputs": []
    },
    {
      "cell_type": "code",
      "source": [
        "print(len(author_papers))\n",
        "print(author_papers[0])"
      ],
      "metadata": {
        "colab": {
          "base_uri": "https://localhost:8080/"
        },
        "id": "Hgg31aFNQc4G",
        "outputId": "bb72440e-948f-4188-fc06-595dffae8668"
      },
      "execution_count": 35,
      "outputs": [
        {
          "output_type": "stream",
          "name": "stdout",
          "text": [
            "638\n",
            "{'author': 'Nishchal K. Verma', 'filename': 'Event-Triggered Sliding Mode Control.pdf', 'content': '\\n\\n\\n\\n\\n\\n\\n\\n\\n\\n\\n\\n\\n\\n\\n\\n\\n\\n\\n\\n\\n\\n\\n\\n\\n\\n\\n\\n\\n\\n\\n\\n\\n\\n\\n\\n\\xa0\\n\\nEvent-Triggered Sliding Mode Control for\\nTrajectory Tracking of Nonlinear Systems\\n\\nAquib Mustafa, Student Member, IEEE, Narendra K. Dhar, and Nishchal K Verma, Senior Member, IEEE\\n\\n \\n\\xa0 \\xa0\\xa0Abstract— In this  paper,  an  event-triggered  sliding  mode  con-\\ntrol approach for trajectory tracking problem of nonlinear input\\naffine system with  disturbance  has  been  proposed.  A  second or-\\nder robotic manipulator system has been modeled into a general\\nnonlinear input affine system. Initially, the global asymptotic sta-\\nbility  is  ensured  with  conventional  periodic  sampling  approach\\nfor reference trajectory tracking. Then the proposed approach of\\nevent-triggered sliding  mode  control  is  discussed  which  guaran-\\ntees  semi-global  uniform  ultimate  boundedness.  The  proposed\\ncontrol approach  guarantees  non-accumulation  of  control  up-\\ndates  ensuring  lower  bounds  on  inter-event  triggering  instants\\navoiding Zeno behavior  in  presence  of  the  disturbance.  The sys-\\ntem shows  better  performance  in  terms  of  reduced  control  up-\\ndates, ensures system stability which further guarantees optimiz-\\nation  of  resource  usage  and  cost.  The  simulation  results  are\\nprovided  for  validation  of  proposed  methodology  for  tracking\\nproblem by a robotic manipulator. The number of aperiodic con-\\ntrol  updates  is  found  to  be  approximately  44% and  61% in  the\\npresence of constant and time-varying disturbances respectively.\\n\\xa0\\xa0\\xa0\\xa0Index\\xa0Terms—Event-trigger,  inter  execution  time,  stability,  sliding\\nmode control, trajectory tracking.\\n\\nI. \\xa0Introduction\\n\\nCONVENTIONAL control theory is usually based on time\\ntriggered  approach,i.e.,  periodic  sampling  of  feedback\\n\\nand  accomplishment  of  control  law.  This  approach  is  well\\nknown  for  its  simplicity  of  analysis.  In  this  approach  rate  of\\ncontrol  law  execution  does  not  depend  upon  system  states.\\nSuch control approach may be inefficient from computational\\nperspective.  An  alternate  approach  known  as  an  event-\\ntriggered control has been presented in [1]. In event-triggered\\ncontrol, execution of control law is done in aperiodic manner.\\nThe control input is computed at events based on condition(s)\\nor  threshold  value(s)  which  relies  on  evolution  of  system\\nstates.  Hence,  the  number  of  data  packets  transmitted  over\\nnetwork are less which in turn reduces actuator efforts. Event-\\ntriggered  control  makes  optimal  utilization  of  resources  and\\nimproves  performance  in  terms  of  processing  time.  Simple\\nevent-triggered  control  approaches  have  been  presented  in\\n[2]–[4].  Lunze et  al. show  state  feedback  based  event-\\n\\ntriggered control in [5].  Several works in distributed network\\ncontrol system, decentralized sensor networks, consensus con-\\ntrol with  time  delay  on  event-triggered  approach  can  be  re-\\nferred  to  [6]–[14].  The  works  presented  in  [15],  [16]  discuss\\nnon-linear event-triggered approach.\\n\\nThe  uncertainties  are  unavoidable  in  real-time  control\\nsystems.  They  might  adversely  affect  the  performance  of\\nsystem. Hence, their treatment becomes a necessary task. The\\ncurrent  state-of-the-art  primarily  deals  with  event-triggered\\nstrategy for  systems without  uncertainty or  some works have\\nbeen reported on linear system with uncertainty [5], [12], [13].\\nUncertainties  in  system  affect  the  performance  of  event-\\ntriggered control [5].\\n\\nTo  overcome  uncertainty  present  in  system,  sliding  mode\\ncontrol  (SMC) has been used for  its  good performance [17]–\\n[19]. SMC can be used for continuous as well as discrete time\\nsystem  dynamics.  For  discrete  time  SMC,  steady-state\\nperformance  of  system  depends  upon  sampling  time  and\\ndisturbance  bound  [20].  Li et  al. in  [21]  have  designed  an\\nadaptive  sliding-mode  stabilization  for  Markov  jump\\nnonlinear  systems  with  actuator  faults  which  guarantees\\nstochastic  stability  of  closed  loop  system.  These  works  are\\nbased  on  conventional  time-triggered  approach.  Event  based\\nSMC  have  been  presented  in  [13],  [22]  for  linear  system.\\nThese  works  do  not  cater  to  admissibility  of  control  inputs.\\nAdmissibility  in  event-trigger  is  defined  by  a  bound  on  inter\\nexecution  time  for  update  of  control  law  which  should  be  a\\nfinite value to ensure system stability. Ferrara and Cucuzzella\\n[23]  have  shown  general  results  for  sliding  mode  control  of\\nfirst and second order using event-based approach. The paper\\nconsiders triggering conditions first and then goes for stability\\nanalysis of the system in both cases. The triggering conditions\\nare designed using threshold values which are arbitrarily set.\\n\\nThe  motivation  for  this  work  is  to  develop  an  approach\\nwhich reduces usage of various resources and actuator efforts.\\nIn addition to it, a controller methodology should take care of\\nsystem  stability,  uncertainty  and  admissibility  of  control\\nexecutions. SMC has been extensively studied in recent years\\nbut to the best of our knowledge there is dearth of work which\\nanalyzes  the  performance  of  SMC  for  trajectory  tracking  by\\nnonlinear  system  based  on  event-triggered  approach.  This\\npaper  puts  an  effort  to  present  such  a  controller  design  by\\nconsidering  the  dynamics  of  robotic  manipulator  and\\nmodeling it into a general nonlinear control affine system. The\\nevent-based  approach  performs  at  par  to  the  time-triggered\\ncontroller  if  not  better.  The  work  done  in  this  paper  can  be\\nsummarized into following contributions:\\n\\n \\nManuscript received June 10,  2018;  accepted  November  7,  2018.  Recom-\\n\\nmended by Associate Editor Yingmin Jia. (Corresponding author: Narendra\\nK. Dhar.)\\n\\nCitation: A. Mustafa, N. K. Dhar, and N. K. Verma, “Event-triggered slid-\\ning mode control for trajectory tracking of nonlinear systems,” IEEE/CAA J.\\nAutom. Sinica, vol. 7, no. 1, pp. 307–314, Jan. 2020.\\n\\nThe authors are with the Department of  Electrical  Engineering,  Indian In-\\nstitute of Technology Kanpur, UP 208016, India (e-mail: aquibmustafa.225@\\ngmail.com; dharnarendra@gmail.com; nishchal.iitk@gmail.com).\\n\\nColor versions of one or more of the figures in this paper are available on-\\nline at http://ieeexplore.ieee.org.\\n\\nDigital Object Identifier 10.1109/JAS.2019.1911654\\n\\nIEEE/CAA JOURNAL OF AUTOMATICA SINICA, VOL. 7, NO. 1, JANUARY 2020 307 \\n\\n\\n\\n1)  The  event-triggering  condition  is  derived  using  Lyapunov\\ntheory which ensures accuracy and stability of SMC.\\n2)  Admissibility  or  bound  on  inter-execution  time  has  been\\nderived for controller application.\\n3)  The  controller  design  considers  uncertainty  in  nonlinear\\nsystem dynamics.\\n\\nThe  paper  is  organized  as  follows.  Section  II  presents\\npreliminaries.  Section  III  has  three  subsections.  The  first\\nsubsection presents  mathematical  modeling and sliding mode\\ncontrol  law  design  for  trajectory  tracking.  The  proposed\\nevent-triggered  sliding  mode  control  law  is  discussed  in\\nsecond subsection. The third subsection discusses semi-global\\nuniform ultimate boundedness of dynamical system on desired\\ntrajectory  ensuring  minimum  bound  on  inter-event  time.  In\\nSection IV, results and discussions for trajectory tracking have\\nbeen presented. Finally, conclusions are drawn in Section V.\\n\\nII. \\xa0Preliminaries\\n\\nA nonlinear input affine system with external disturbance is\\nconsidered as\\n\\nẋ = f (x)+g(x)(u+d) (1)\\nx ∈ Rn, f : Rn→ Rn,u ∈ Rm,g : Rn→ Rn\\n\\nR\\nm d ∈ Rm\\n\\nd(t)\\n\\n||d(t)|| ≤ dmax\\n\\nwhere x  and .\\nThe  external  disturbance  is  unknown and assumed to  be\\nbounded i.e. . The dynamics of desired trajectory\\nis\\n\\nẋd = fd(xd). (2)\\nx̃The  tracking  error  is  difference  between  actual  and\\n\\ndesired trajectory.\\n\\nx̃ = x− xd. (3)\\n\\nγ α(γ)\\n\\nThe  control  input  depends  on  tracking  error  and  desired\\ntrajectory.  The  control  law  can  therefore  be  written  as  a\\nfunction of , i.e., .\\n\\nu = α(γ), γ = [x̃ xd]T . (4)\\nThe tracking error dynamics is further expressed as\\n˙̃x = ẋ− ẋd, ˙̃x = f (x̃+ xd)+g(x̃+ xd)(α(γ)+d(t))− ẋd. (5)\\n\\nu\\n\\nti i = 0,1,2, ....\\n\\nThe  event  driven  approach  updates  control  law  in  an\\naperiodic way on the basis of triggering condition(s). An event\\nis  basically  a  discrete  time  instant  when  system  tends  to\\nbecome unstable and a necessary action is to be taken to make\\nit  stable.  The  necessary  action  here  is  the  update  of  control\\ninput ( ) which ensures stability of the system along with the\\ndesired trajectory tracking. The control law is updated at non-\\nuniform  time  instant  ( ).  If  the  system  remains\\nstable  then  there  will  be  no  triggering  of  event  and\\nconsequently  there  will  be  no  update  of  control  input.  The\\ntracking  error  dynamics  can  be  expressed  in  terms  of  event-\\nbased control input as\\n\\n˙̃x = f (x̃+ xd)+g(x̃+ xd)(α(γ(ti))+d(t))− ẋd. (6)\\neA parameter termed as event-trigger error ( ) is defined for\\n\\ndeveloping triggering condition.\\n\\ne(t) = γ(ti)−γ(t)\\n⇒ e(t) = [x̃(ti)− x̃(t)xd(ti)− xd(t)]T (7)\\n\\nt ∈ [ti, ti+1) ewhere . The event-trigger error ( ) is different from\\n\\nx̃ = x− xd\\n\\nx̃\\n\\nxd\\n\\nxd\\n\\nxd\\n\\ntrajectory  tracking  error .  The  objective  of  defining\\nthe  event-triggered  error  in  terms  of  tracking  error  and  the\\nknown  desired  trajectory  is  to  design  the  event-triggering\\ncondition from  Lyapunov  stability  analysis.  The  desired  tra-\\njectory  is known but it is time varying by nature. The dif-\\nference (i.e. error) between the desired value of  at last trig-\\ngering instant and current time instant contributes in deciding\\nevents  based  on  stability  of  the  system.  Equation  (6)  can  be\\nfurther  expressed as  a  perturbed dynamics  in  terms of  event-\\ntrigger error.\\n\\n˙̃x = [ f (x̃+ xd)+g(x̃+ xd)(α(γ)+d(t))− ẋd]\\n\\n+g(x̃+ xd)(α(γ+ e)−α(γ)). (8)\\nThe following section provides a novel approach for design\\n\\nof event-triggered SMC for nonlinear input affine system with\\nexternal disturbances.\\n\\nIII. \\xa0System Modeling and Control Law for\\nTrajectory Tracking\\n\\nThe  proposed  control  approach  has  been  designed  by\\nmodeling the dynamics for a class of nonlinear system into a\\ngeneral nonlinear control affine system. The control approach\\ncan be directly  applied to  system which are  already in  affine\\nform.\\n\\nA.  Nonlinear Control Affine System\\nThe  dynamics  of  a  class  of  continuous  time  system  is\\n\\ndescribed  mathematically  in  the  following  non-linear\\ndifferential form [24], [25].\\n\\nM(q)q̈+C(q, q̇)+G(q)+D(t,q, q̇) = τ(t) (9)\\nn q ∈ Rn q̇ ∈ Rn\\n\\nM(q) n×n C(q, q̇) G(q)\\n\\nn×1 D(t,q, q̇)\\n\\nτ(t) n×1\\n\\nwhere  is number of states,  is position vector,  is\\nvelocity vector,  is  inertia matrix,  and \\nare  are  system  vector,  is  uncertainty  term  and\\n\\n is  control vector.\\nFor controller design, the dynamic model given in (9) has to\\n\\nbe  expressed  in  standard  nonlinear  control  affine  form  with\\nrespective states. The position and velocity vectors considered\\nhere are as follows.\\n\\nx1 = [q1 q2]T , x2 = [q̇1 q̇2]T , x = [x1 x2]T . (10)\\nThe system parameters and control input are expressed as\\n\\nf (x) = −M−1(C(q, q̇)+G(q))g(x) = M−1, u = τ. (11)\\nUsing  (10)  and  (11),  the  state  space  model  for  (9)  can  be\\n\\nwritten in following form.\\n\\nẋ1 = x2, ẋ2 = f (x)+g(x)(u+d(t)). (12)\\n\\nS (t) x̃1\\n\\nx̃2\\n\\nThe control law designed for tracking is  based on SMC. A\\nsliding surface ( )  is  defined in terms of tracking error (\\nand ).\\n\\nS (t) = λx̃1+ x̃2 (13)\\nλ\\n\\nx̃1 = x1− x1d x̃2 = x2− x2d x1d x2d\\n\\nwhere  is  a  non-zero  positive  sliding  gain  parameter  with\\n and .  and  represent the states\\n\\nof  respective  desired  trajectories.  The  derivative  of  sliding\\nsurface can be expressed as\\n\\nṠ (t) = λ ˙̃x1+ ˙̃x2 ⇒ Ṡ (t) = λ ˙̃x1+ ẋ2− ẋ2d. (14)\\nVA Lyapunov function  is defined in terms of sliding surface.\\n\\n 308 IEEE/CAA JOURNAL OF AUTOMATICA SINICA, VOL. 7, NO. 1, JANUARY 2020\\n\\n\\n\\nV =\\n1\\n\\n2\\nS (t)T S (t). (15)\\n\\nUsing  (12)  and  (14),  the  derivative  of  Lyapunov  function\\ndefined in (15) is\\n\\nV̇ = S (t)T Ṡ (t) = S (t)T [ f (x)+g(x)(u+d(t))− ẋ2d +λ ˙̃x1]. (16)\\nFor a non zero positive constant K, closed loop system will\\n\\nbe stable for the control law designed as\\n\\nu = −g(x)−1[ f (x)+K ∗ sign(S (t))− ẋ2d +λ ˙̃x1] (17)\\nK >max ||g(x̃+ xd)d(t)||+η ηwhere .  is  a  non  zero  positive\\n\\nconstant. The derivative of Lyapunov function in (16) will be-\\ncome\\n\\nV̇ = S T (t)[g(x)d(t)−Ksign(S (t))]\\n\\n= −S T (t)[Ksign(S (t))−g(x̃+ xd)d(t)]\\n\\n≤ −ηS T sign(S (t)) ≤ −η|S (t)|\\n\\n≤ −η\\n√\\n\\nλ2\\n+1||x̃|| ≤ 0. (18)\\n\\nEquation  (18)  proves  that  the  sliding  mode  control  law  in\\n(17)  ensures  asymptotic  stability  of  system.  Event  triggered\\napproach for SMC is discussed in following subsection.\\n\\nη\\n\\nRemark  1: Note  that,  for  the  control  law  in  (17)  with  a\\npositive  scalar  constant ,  system given  in  (12)  converges  to\\nzero and guarantees stability in presence of disturbance.\\n\\nRemark  2:  The  notion  of  zero  dynamics  of  a  nonlinear\\nsystem is used in the investigation of three classes of problems\\nthat  arise  in  robotics:  control  of  robots  in  rigid  contact  with\\nthe  environment,  free  motion  control  of  manipulators  with\\nredundant degrees of freedom, and trajectory control of robot\\narms  with  flexible  links.  In  each  case,  the  internal  dynamics\\npresent  in  the  system when  a  proper  output  is  constrained  to\\nbe zero is characterized, and a physical interpretation of such\\ndynamics is provided [26].\\n\\nB.  Event Triggered Sliding Mode Control\\nIn this subsection, design of an event-based control law and\\n\\ntriggering  conditions  are  discussed.  The  control  law  should\\nmeet following two aspects:\\n\\n1)  tracking  error  should  converge  to  zero  ensuring\\nasymptotic stability of system, and\\n\\n2) does not violate admissibility condition, i.e., non stacking\\nof actuator actions.\\n\\nThe  following  assumptions  are  considered  for  design  of\\nevent-triggered SMC law applied to system (12) for trajectory\\ntracking problem.\\n\\nV(x̃) : Rn→ R+\\n0\\n\\nxd\\n\\nAssumption  1:  Consider  a  Lyapunov  candidate  function\\n for system given in (5), such that for all \\n\\n1) β1(||x̃||) ≤ V ≤ β2(||x̃||)\\n\\n2)\\n∂V\\n\\n∂x̃\\n[ f (x̃+ xd)+g(x̃+ xd)\\n\\n(α(γ(ti))+d(t))− ẋd] ≤ −β3(||x̃||) (19)\\nβ1(·) β2(·) β3(·) K∞where ,  and  are class  functions.\\n\\nf (.) g(.)Assumption  2:  The  functions  and  of  system\\ndynamics are assumed to be known.\\n\\nf (·) fd(·) g(·) α(·)Assumption  3: , , ,  are  assumed  to  be\\nLipschitz [27] on compact sets.\\n\\n∀t ≥ 0 ||x̃(0)|| ≤ σ ||xd || ≤ h ||d(t)|| ≤ dmax\\n\\nσ ≥ 0, h ≥ 0 dmax ≥ 0\\n\\nAssumption 4: , ,  and \\nwhere,  and  [28].\\n\\ng(x)\\n\\nt ∈ [ti, ti+1) g(x)\\n\\nLg\\n\\nAssumption  5:  Variation  in  over  triggering  instant  i.e.\\nthe  interval  is  negligible.  is  positive  definite\\nand bounded by maximum value of  on compact set E [24].\\n\\nf g\\n\\nf g f g\\n\\nRemark 3: The sliding mode variable, controller design, and\\nevent-triggering condition takes into account  and . Hence,\\nthis work considers  and  to be known. The  and  may be\\nconsidered uncertain as in [29].\\n\\ng(x)\\n\\ng(x)\\n\\nLg\\n\\ng(x)\\n\\nt ∈ [ti, ti+1)\\n\\nRemark 4:  As  per  [24],  a  non-linear  dynamical  system can\\nbe  modelled  in  state  space  form  where  represents  the\\ninverse  of  inertia  matrix.  For  such  a  system  is  positive\\ndefinite and bounded by maximum value of  on compact set\\nE.  For  the  sake  of  simplicity,  variation  of  during  inter-\\nevents,  i.e.,  the  interval  are  assumed  to  be\\nnegligible.\\n\\nα(.) E = [γ : ||x̃|| ≤ σ; ||xd || ≤ h; ||d(t)|| ≤ dmax]\\n\\nA Lipschitz  constant,  denoted  as L,  is  defined  for  function\\n on  compact  set .\\n\\nUsing Assumption 2 with equation for (4), one has\\n\\n||u(ti)−u|| = ||α(γ+ e)−α(γ)|| = L||e||. (20)\\nTheorem 1: Let an event-triggered sliding mode control law\\n\\nfor system in (12) can be designed as\\n\\nu(ti) =−g(x(ti))\\n−1[ f (x̃(ti)+ xd(ti))\\n\\n+Ksign(S (ti))− ẋ2d(ti)+λ ˙̃x1(ti)] (21)\\ntiwhere  represents  a  triggering  instant.  If  the  following\\n\\nthreshold conditions\\n\\n1) ||e|| ≤ η\\n√\\n\\n2(λ+1)L\\n(22a)\\n\\nwhere e is defined in (7),\\n\\n2) ||x̃|| ≤ r for all t ∈ [ti, ti+1) (22b)\\nwherer r is a design parameter which guarantees boundedness\\nof  tracking  error  are  not  satisfied,  then  an  event  is  triggered\\nand control input is updated. The gradual triggering of events\\nlead tracking error to converge to zero in presence of disturb-\\nance and the system shows asymptotic stability.\\n\\nV(x̃)\\n\\nV̇(x̃) = ∂V\\n∂x̃\\n\\n˙̃x\\n\\nProof: Consider  a  Lyapunov  function  as  per\\nAssumption 1 for the system described in (12). The derivative\\nof Lyapunov function can be expressed as , which\\ncan be further expressed using perturbed dynamics in (8) as\\n\\nV̇ =\\n∂V\\n\\n∂x̃\\n[ f (x̃+ xd)+g(x̃+ xd)α(γ)+g(x̃+ xd)d(t)− ẋd]\\n\\n+\\n\\n∂V\\n\\n∂x̃\\ng(x̃+ xd)(α(γ+ e)−α(γ)). (22)\\n\\nUsing Assumption 1, (22) can be expressed as\\n\\nV̇ ≤ −β3||x̃||+\\n∂V\\n\\n∂x̃\\ng(x̃+ xd)(α(γ+ e)−α(γ)). (23)\\n\\nConsider the second term of (23) for further analysis\\n\\n∂V\\n\\n∂x̃\\ng(x̃+ xd)(α(γ+ e)−α(γ)). (24)\\n\\nThe Lyapunov candidate function is explicitly defined as\\n\\nV(x̃) =\\n1\\n\\n2\\n(x̃2+λx̃1)T (x̃2+λx̃1). (25)\\n\\nMUSTAFA et al.: EVENT-TRIGGERED SLIDING MODE CONTROL FOR TRAJECTORY TRACKING OF NONLINEAR SYSTEMS 309 \\n\\n\\n\\nV(x̃)The partial derivative of  can be expressed as\\n\\n∂V\\n\\n∂x̃\\n= [λ 1][x̃2+λx̃1 x̃2+λx̃1]T . (26)\\n\\nUsing Assumption 4,\\n\\ng(x̃+ xd)(α(γ+ e)−α(γ)) = g(x̃+ xd)(u(ti)−u). (27)\\n\\nti\\n\\nUsing  (17)  and  (21)  along  with  Assumption  4  at  event-\\ntriggered instant , (27) can be expressed as\\n\\ng(x̃+ xd)(u(ti)−u) = [ f (x̃+ xd)+K ∗ sign(S )− ẋ2d +λ ˙̃x1]\\n\\n− [ f (x̃(ti)+ xd(ti))+K ∗ sign(S (ti))− ẋ2d(ti)+λ ˙̃x1(ti)].\\n(28)\\n\\nEquation (28) can be further written using (2) as\\n\\ng(x̃+ xd)(u(ti)−u) = f (x̃+ xd)− f (x̃(ti)+ xd(ti))+K ∗ sign(S )\\n\\n−K ∗ sign(S (ti))+ fd(x2d(ti))− fd(x2d)+λ ˙̃x1−λ ˙̃x1(ti).\\n(29)\\n\\n˙̃x1 = ẋ1− ẋ1d, ˙̃x1 = x̃2+ x2d − ẋ1dUsing  and  (2),  (29)\\nbecomes\\n\\ng(x̃+ xd)(u(ti)−u) = f (x̃+ xd)− f (x̃(ti)+ xd(ti))\\n\\n+K ∗ sign(S )−K ∗ sign(S (ti))+ fd(x2d(ti))− fd(x2d)+λ(x̃2\\n\\n− x̃2i)+λ(x2d − x2d(ti))+λ( fd(x1d(ti))− fd(x1d)).\\n(30)\\n\\nf (·) fd(·)As  per  Assumption  2,  and  are  assumed  to  be\\nLipschitz for a defined set. Hence,\\n\\n∥g(x̃+ xd)(u(ti)−u)∥ ≤ ∥ f (x̃+ xd)− f (x̃(ti)+ xd(ti))∥\\n+ ∥K ∗ sign(S )−K ∗ sign(S (ti))∥+ ∥ fd(x2d(ti))− fd(x2d)∥\\n+ ∥λ(x̃2− x̃2(ti))∥+ ∥λ(x2d − x2d(ti))∥\\n+ ∥λ( fd(x1d(ti))− fd(x1d))∥ . (31)\\nEquation (31) is further expressed as\\n\\n∥g(x̃+ xd)(u(ti)−u)∥ ≤ ∥L1(x̃+ xd − x̃(ti)− xd(ti))∥\\n+ ∥L2(x2d(ti)− x2d)∥+ ∥λ(x̃2− x̃2(ti))∥\\n+ ∥λ(x2d − x2d(ti))∥+ ∥λL3(x1d(ti)− x1d)∥ . (32)\\n\\n∥e∥\\nEquation  (32)  is  written  below  in  terms  of  event-trigger\\n\\nerror .\\n\\n∥g(x̃+ xd)y(u(ti)−u)∥ ≤ ∥L1 [1 1 1 1]e∥\\n+ ∥L2 [0 0 0 1]e∥+ ∥λ [0 1 0 1]e∥\\n+ ∥λL3 [0 0 1 0]e∥ (33)\\n\\newhere event-trigger error ( )  is  given in (22a).  Equation (33)\\nis further expressed as\\n\\n∥g(x̃+ xd)(u(ti)−u)∥ ≤ 2L1 ∥e∥+L2 ∥e∥+λL3 ∥e∥+\\n√\\n\\n2λ∥e∥ .\\n(34)\\n\\nUsing (26) and (34), equation (24) can be written as\\n∥\\n\\n∥\\n\\n∥\\n\\n∥\\n\\n∥\\n\\n∂V\\n\\n∂x̃\\ng(x̃+ xd)(α(γ+ e)−α(γ))\\n\\n∥\\n\\n∥\\n\\n∥\\n\\n∥\\n\\n∥\\n\\n≤ (λ+1)\\n\\n√\\n\\n(λ2\\n+1)||x̃||L||e||\\n\\n(35)\\n\\nwhere L = 2L1+L2+λL3+\\n\\n√\\n2λ. (36)\\n\\nUsing (18) and (35), equation (22) can be further written as\\n\\nV̇ =\\n∂V\\n\\n∂x̃\\n[ f (x̃+ xd)+g(x̃+ xd)α(γ)+d(t)− ẋd]\\n\\n+\\n\\n∂V\\n\\n∂x̃\\ng(x̃+ xd)(α(γ+ e)−α(γ)) (37)\\n\\nwhich will finally become\\n\\nV̇ ≤ −η\\n√\\n\\nλ2\\n+1||x̃||+ (λ+1)\\n\\n√\\n\\n(λ2\\n+1)||x̃||L||e||. (38)\\n\\nV̇ ≤ 0\\n\\nUsing  the  event-trigger  threshold  condition  (22a)  in  (38),\\none can ensure . It shows that the system in (12) with the\\ndesigned  control  law  in  (21)  is  bounded  and  achieves\\nconvergence  despite  the  disturbance.  The  violation  of\\nthreshold conditions (22a) and (22b) are necessary as well as\\nsufficient for the update of event-driven sliding mode control.\\nThis completes the proof of Theorem 1.\\n\\nRemark  5:  Theorem  1  shows  that  control  law  in  (21)  will\\nforce the system to track the desired trajectory in presence of\\ndisturbance rendering asymptotic  stability  of  the system. The\\nproof  ensures  this  approach  can  be  applied  to  real-time\\napplications with resource optimization.\\n\\nC.  Admissibility of Event-Driven Control\\nThe admissibility of event-driven control law is necessary to\\n\\navoid  the  piling  of  triggering  instants  and  ensuring  the\\nstability of system. Theorem 2 provides a lower bound for an\\ninter-event triggering interval.\\n\\nDefinition  1:  Admissibility  in  event-triggered  system  is\\ndefined  as  the  inter-execution  time  for  update  of  control  law\\nwhich is always lower bounded by a finite value.\\n\\nv̇ = f (t,v), v(t0) = v0 f (t,v)\\n\\nv t ∀t ≥ 0\\n\\nv ∈W ⊂ R. [t0,T ) v(t)\\n\\nv(t) ∈W ∀t ∈ [t0,T ) m(t)\\n\\nD+m(t) D+m(t) ≤ f (t,m(t)),\\n\\nm(t0) ≤ m0 m(t) ∈W ∀t ∈ [t0,T ) m(t) ≤ v(t)\\n\\nt ∈ [t0,T )\\n\\nLemma  1  (Comparison  Lemma)  [27]: Let  the  scalar\\ndifferential  equation ,  where  is\\nlocally  Lipschitz  in  and  continuous  in ,  and\\n\\n Consider  be maximal period of solution ,\\nand  assume  that .  Consider  be  a\\ncontinous  function  whose  upper  derivative  on  right-hand\\n\\n satisfy  differential  inequality \\n with . Then,  for all\\n\\n.\\n\\n∀ti (i = 0,1,2...)\\n\\nTi Ti = ti+1− ti\\n\\nTheorem 2:  For  the  system in  (12),  event-driven  control  is\\nupdated  on  violation  of  conditions  in  (22a)  and  (22b)\\n\\n.  For  admissibility  of  system  the  inter-event\\nperiod  defined  as  should  always  be  lower\\nbounded by a positive constant given by\\n\\nTi ≥\\n1\\n\\nQ\\n\\n(\\n\\n1+\\nη\\n\\n√\\n2(λ+1)L(σ+h+dmax)\\n\\n)\\n\\n. (39)\\n\\n∥e∥Proof:  The  time  required  for  event-trigger  error  to  rise\\nfrom zero at last triggerng instant to threshold value should be\\nlower bounded. Hence, the accumulation of triggering instants\\nand existence of Zeno phenomenon can be avoided ensuring a\\nstable system. The event driven system is represented as\\n\\n˙̃x = f (x̃+ xd)+g(x̃+ xd)(α(γ)+d(t))− ẋd. (40)\\nUsing triangular inequality, (40) can be expressed as\\n\\n|| ˙̃x|| ≤ || f (x̃+ xd)+g(x̃+ xd)(α(γ)+d(t))− ẋd ||\\n+ ||g(x̃+ xd)[α(γ+ e)−α(γ)]||. (41)\\n\\nf (x̃+ xd)+g(x̃+ xd)(α(γ)+d(t))− ẋd\\n\\nLa\\n\\nFor ,  a  Lipschitz\\nconstant  is defined on compact set E based on Assumptions\\n2 and 3. Equation (41) therefore becomes\\n\\n|| ˙̃x|| ≤ La(||x̃||+ ||xd ||+ ||d(t)||)+L||e||||g(x̃+ xd)|| (42)\\n||g(x̃+ xd)||As per Assumption (4),  attains a maximum value\\n\\n 310 IEEE/CAA JOURNAL OF AUTOMATICA SINICA, VOL. 7, NO. 1, JANUARY 2020\\n\\n\\n\\nLgof . Hence, equation (42) can be expressed as\\n\\n|| ˙̃x|| ≤ La(||x̃||+ ||xd ||+ ||d(t)||)+LgL∥e∥ . (43)\\nQ (Q > 0)\\n\\n|| ˙̃x|| ≤ Q (||x̃||+ ||xd ||+ ||d(t)||+ ||e||) ∀ t ∈ [ti, ti+1)\\n\\nThere  exists  a  constant  such  that\\n .  As  per\\n\\nAssumption (3)\\n\\n|| ˙̃x|| ≤ Q(σ+h+dmax + ||e||). (44)\\nė = −[ ˙̃x ẋd]TFor the rate of change of event-trigger error, \\n\\nd||e||\\ndt\\n≤ ||ė|| ≤ Q(σ+h+dmax + ||e||). (45)\\n\\nThen, using Lemma 1\\n\\n||e|| ≤ (σ+h+dmax)(expQ(t−ti)−1), ∀t ∈ (ti, ti+1). (46)\\nUsing (22a)  in  (46)  the  lower  bound on inter-event  time is\\n\\nobtained as\\n\\nTi ≥\\n1\\n\\nQ\\n\\n(\\n\\n1+\\nη\\n\\n√\\n2(λ+1)L(σ+h+dmax)\\n\\n)\\n\\n. (47)\\n\\nRemark 6: Theorem 2 shows that the inter-execution time in\\n(47) for the designed control law (21) will be lower bounded.\\nThe  boundedness  on  inter-execution  time  will  ensure  non-\\naccumulation of actuator actions and further guarantees robust\\ntrajectory  tracking.  This  proof  supports  the  real-time\\nfeasibility of developed resource optimization approach.\\n\\nL\\nL j( j = 1,2,a, ...)\\n\\nS (R)(∥x̃∥ ∈ S (R)) ≡ ∥x̃∥ ≤ β−1\\n1\\n\\n(β2 ∥x̃(ti)∥) β1 β2\\n\\nR ≥ 0 S (R)\\n\\nx̃ x̃\\n\\nS (R)\\n\\nx̃\\n\\nL = β−1\\n1\\n\\n(β2(R))\\n\\nRemark  7:  is  computed  using  (36).  For  choosing\\n (Lipschitz constant), it is necessary to have a\\n\\nset  (  and  are\\ndefined  in  Assumption  1)  where  for ,  the  set \\nincludes  all  system  states .  For  all ,  with  bounded  initial\\ncondition to enter the set  in finite time and to stay there,\\nthe  tracking  error  is  uniformly  ultimately  bounded  by  the\\nclosed ball of radius .\\n\\nLa Lg La\\n\\nLg\\n∥\\n\\n∥\\n\\n∥\\n˙̃x\\n∥\\n\\n∥\\n\\n∥ ∥x̃∥ ∥xd∥ ∥d(t)∥ ∥e∥\\nLa Lg\\n\\nThe  value  of Q depends  on , ,  and L.  and L are\\nLipschitz  constants  and  is  the  maximum  value  of g.  The\\nvariables , , , ,  and  in  (43)  are  positive\\nscalar  values.  Hence,  the  values  of , ,  and L are  chosen\\nsuch that they at least satisfy\\n\\n∥\\n\\n∥\\n\\n∥\\n˙̃x\\n∥\\n\\n∥\\n\\n∥ = La(∥x̃∥+ ∥xd∥+ ∥d(t)∥)+LgL∥e∥ .\\n\\nax+by+ cz = 0\\n\\nx = ∥x̃∥+ ∥xd∥+ ∥d(t)∥ y = ∥e∥ z =\\n∥\\n\\n∥\\n\\n∥\\n˙̃x\\n∥\\n\\n∥\\n\\n∥ a = La b = LgL\\n\\nc = −1\\n\\nThe  above  equation  can  be  expressed  in  the  form  of  a\\nstandard  equation  of  a  plane  (i.e., )  where\\n\\n, , , , ,  and\\n. Now\\n\\n|| ˙̃x|| = Q(||x̃||+ ||xd ||+ ||d(t)||+ ||e||) ∀ t ∈ [ti, ti+1).\\n\\na = Q b = Q c = −1 La Lg\\n\\nQ Q\\n\\nLa Lg\\n\\n∥x̃∥ ∥xd∥ ∥d(t)∥\\n\\nThe equation above can also be expressed in the form of a\\nplane,  where , ,  and .  The values of , ,\\nand L are chosen prior to . Hence, the value of  is chosen\\nbased  on  the  space/domain  where  these  two  planes  either\\nintersect  or  overlap  keeping  the  (44)  intact.  There  is  an\\nalternative  to  compute  minimum  inter-event  time  for  the\\nproposed  approach.  One  can  always  express  the  minimum\\ninter-event  time  expression  based  on  the  parameters , ,\\nand L and maximum values of , , and .\\n\\nIV. \\xa0Results and Discussions\\n\\nThis  section  validates  the  proposed  event-triggered  sliding\\n\\nmode  controller  for  trajectory  tracking  problem.  Simulations\\nare  carried  out  for  two-link  robotic  manipulator.  The\\ndynamics is given by\\n\\n[\\n\\nM11 M12\\n\\nM21 M22\\n\\n] [\\n\\nẍ1\\n\\nẍ2\\n\\n]\\n\\n+\\n\\n[\\n\\nN1\\n\\nN2\\n\\n]\\n\\n+\\n\\n[\\n\\nd1\\n\\nd2\\n\\n]\\n\\n=\\n\\n[\\n\\nτ1\\nτ2\\n\\n]\\n\\n(48)\\n\\nM11= (m1+m2)a2\\n1\\n+m2a2\\n\\n2\\n+2m2a1a2 cos(x2) M12=m2a2\\n\\n2\\n+\\n\\nm2a1a2 cos(x2) M21 = m2a2\\n2\\n+m2a1a2 cos(x2) M22 = m2a2\\n\\n2\\n\\nN1 = −m2a1a2(2ẋ1 ẋ2+ ẋ2\\n2\\n) sin(x2)+ (m1+m2)ga1 cos(x1)+m2ga2\\n\\ncos(x1+ x2) N2 = m2a1a2 ẋ2\\n1\\n\\nsin(x2)+m2ga2 cos(x1+ x2)\\n\\nd1 d2\\n\\nτ1 τ2\\n\\nm1 m2 a1 a2 = 1 m1, m2\\n\\na1, a2\\n\\nxd(t) cos(1.57t) cos(1.57t)]T\\n\\nx(0) [11]T\\n\\nλ\\n\\nη\\n\\nd(t) = [0.01 0.01]T\\n\\n∥e∥\\n∥x̃∥\\n\\nV(x̃)\\n\\nwhere , \\n, , and .\\n\\nLumped  Coriolis  and  Gravitational  force  is  represented  by\\n\\n and  \\nfor  joints-1  and  2  respectively.  and  represent disturb-\\nances  and  and  are torques  for  joints-1  and  2,  respect-\\nively.  The  structural  parameters  of  robotic  manipulator  are:\\n\\n =  1  kg,  =  1  kg,  =  1  m  and  m.  ( )  and\\n( ) are mass and length of links respectively.The desired\\ntrajectories for two joints are  = [  .\\nThe initial joint positions are  = . The Lipschitz con-\\nstant L is  determined  using  (36)  as  0.85.  The  sliding  mode\\ngain  parameter  in  (13)  is  considered  to  be  unity.  Consider\\nthe design parameter  = 0.7 and bound on tracking error r =\\n1.2. The sampling period considered is 0.01s. The results have\\nbeen obtained  for  constant  as  well  as  time-varying  disturb-\\nances in the system. The initial results are for constant disturb-\\nance of . The trajectory tracking by rigid re-\\nvolute joint robot manipulator system here does not belong to\\nany of the cases mentioned in Remark 2. There does not exist\\nany zero dynamics for the system considered. The desired tra-\\njectory tracking in terms of joints’ angular positions and velo-\\ncities  have  been  shown  in Figs. 1 and 2 respectively.  The\\ntracking in these figures are robust even in the presence of un-\\ncertainty  using  the  proposed  approach. Figs. 3 and 4 demon-\\nstrate tracking error of angular positions and velocities of both\\njoints  respectively.  Both  tracking  errors  show  convergence\\nand  ensure  asymptotic  stability  of  the  system.  The  event-\\ntriggered  approach  binds  chattering  in  a  band  as  shown  in\\ntracking error plots. The event-based sliding mode control in-\\nput for both joints have been shown in Fig. 5. The control in-\\nputs  demonstrate  aperiodic  triggering  after  6 s.  They  are  not\\nupdated periodically and remain constant for many inter-event\\nintervals. Fig. 6 shows the  sliding  surface  of  both  joints.  Al-\\nthough Fig. 6 illustrates  chattering  on  sliding  surfaces,  the\\ncontrol  law  brings  trajectory  to  sliding  manifold  and  ensures\\nsystem stability. Fig. 7 presents event-trigger error  and tra-\\njectory tracking error . Both the errors converge almost to\\nzero after 6.4 s. The time required for convergence while peri-\\nodic-triggering is  found  to  be  approximately  6 s.  The  pro-\\nposed  approach  takes  a  little  more  time  for  convergence  as\\ncompared  to  periodic  triggering  but  the  difference  is  very\\nsmall. It can be inferred from Figs. 7 and 8 that update of con-\\ntrol law occurs only when the conditions (22a) and (22b) are\\nviolated. Fig. 7 has  been  enlarged  in Fig. 8 for  clarity  in\\npresenting  all  the  error  parameters  with  triggering  instants\\nafter  6.4  s.  It  shows that  aperiodic  updates  of  control  actions\\nsignificantly reduce for desired tracking. These results ensure\\nresource  optimization  along  with  stability  of  system.  The\\nvalue  of  Lyapunov  function  has  been  shown  in Fig. 9.\\n\\nMUSTAFA et al.: EVENT-TRIGGERED SLIDING MODE CONTROL FOR TRAJECTORY TRACKING OF NONLINEAR SYSTEMS 311 \\n\\n\\n\\nThe  number  of  control  updates  using  the  proposed  approach\\nare  found  to  be  441  for  the  simulated  duration  of  10 s  (i.e.,\\n1000 sampling instants). The average frequency of control up-\\ndates is approximately 44 Hz. Similarly the number of control\\nupdates  for  time  varying  disturbance d(t)  =  [0.5sin(3.14t)\\n0.5sin(3.14t)] T are found  to  be  606  for  the  simulated  dura-\\ntion of  10  s  (i.e.  1000  sampling  instants).  The  average  fre-\\nquency of control updates is approximately 61 Hz. The angu-\\nlar positions and tracking errors of joints for second set of res-\\nults have been shown in Figs. 10 and 11 respectively. The nor-\\nmalized  values  of  various  error  parameters  have  been  shown\\nin Fig. 12 with its zoomed view in Fig. 13 along with the trig-\\ngering instants. A comparison of time-triggered and proposed\\nSMC controller has been done in Table I based on number of\\nevents and convergence time of errors.  Using (47),  the lower\\n\\nbound  on  inter-event  times  are  found  to  be  0.0037  s  and\\n0.0032 s  for  constant  and  time-varying  disturbances  respect-\\nively.  The  admissibility  in  both  the  cases  are  maintained  as\\nminimum inter-event time is 0.01 s.\\n\\n \\n\\n0 1 2 3 4 5 6 7 8 9 10\\nTime (s)\\n\\n−1.0\\n−0.5\\n\\n0\\n\\n0.5\\n1.0\\n1.5\\n2.0\\n\\nP\\no\\nsi\\n\\nti\\no\\nn\\n (\\n\\nra\\nd\\n)\\n\\nDesired\\nJoint 1\\nJoint 2\\n\\n \\nFig. 1.     Angular positions of joints during trajectory tracking.\\n \\n\\n \\n\\n0 1 2 3 4 5 6 7 8 9 10\\nTime (s)\\n\\n−2\\n\\n−1\\n\\n0\\n\\n1\\n\\n2\\n\\nV\\nel\\n\\no\\nci\\n\\nty\\n (\\n\\nra\\nd\\n/s\\n\\n)\\n\\nDesired\\nJoint 1\\nJoint 2\\n\\n \\nFig. 2.     Angular velocities during trajectory tracking.\\n \\n\\n \\n\\n0 1 2 3 4 5 6 7 8 9 10\\nTime (s)\\n\\n−1.0\\n−0.5\\n\\n0\\n\\n0.5\\n1.0\\n1.5\\n\\nP\\no\\nsi\\n\\nti\\no\\nn\\n e\\n\\nrr\\no\\nr \\n\\n(r\\nad\\n\\n) Joint 1\\nJoint 2\\n\\n \\nFig. 3.     Tracking error for angular positions of two joints.\\n \\n\\n \\n\\n0 1 2 3 4 5 6 7 8 9 10\\nTime (s)\\n\\n−1\\n\\n0\\n\\n1\\n\\n2\\n\\nV\\nel\\n\\no\\nci\\n\\nty\\n e\\n\\nrr\\no\\nr \\n\\n(r\\nad\\n\\n/s\\n) Joint 1\\n\\nJoint 2\\n\\n \\nFig. 4.     Tracking error for angular velocities of two joints.\\n \\n\\n \\n\\n−20\\n−10\\n\\n0\\n10\\n20\\n30\\n40\\n\\nC\\no\\nn\\ntr\\n\\no\\nl \\n\\nin\\np\\nu\\nt\\n\\n0 1 2 3 4 5 6 7 8 9 10\\nTime (s)\\n\\nControl input for Joint 1\\nControl input for Joint 2\\n\\n \\nFig. 5.     Control inputs for two joints.\\n \\n\\n \\n\\n−1\\n\\n0\\n\\n1\\n\\n2\\n\\n3\\n\\nS\\nli\\n\\nd\\nin\\n\\ng\\n s\\n\\nu\\nrf\\n\\nac\\ne\\n\\n0 1 2 3 4 5 6 7 8 9 10\\nTime (s)\\n\\nJoint 1\\nJoint 2\\n\\n \\nFig. 6.     Sliding surfaces of two joints.\\n \\n\\n \\n\\n0\\n\\n1\\n\\n2\\n\\n3\\n\\n0 1 2 3 4 5 6 7 8 9 10\\nTime (s)\\n\\nE\\nrr\\n\\no\\nr \\n\\np\\nar\\n\\nam\\net\\n\\ner\\ns Event trigger error\\n\\nTracking error\\nError threshold\\n\\n \\nFig. 7.     Normalized values of various error parameters.\\n \\n\\n \\n\\nTime (s)\\n\\nE\\nrr\\n\\no\\nr \\n\\np\\nar\\n\\nam\\net\\n\\ner\\ns\\n\\n0\\n\\n0.06\\n0.10\\n\\n0.20\\n\\n0.30\\n\\n6.0 6.5 7.0 7.5 8.0 8.5\\n\\nEvent trigger error\\nError threshold\\nTracking error\\n\\n \\nFig. 8.     Error parameters and triggering instants (zoomed view).\\n \\n\\n \\n\\n0\\n\\n2\\n\\n4\\n\\n6\\n\\nL\\ny\\nap\\n\\nu\\nn\\no\\nv\\n c\\n\\nan\\nd\\nid\\n\\nat\\ne \\n\\nv\\nal\\n\\nu\\ne\\n\\n0 1 2 3 4 5 6 7 8 9 10\\nTime (s)\\n\\n \\nFig. 9.     Value of Lyapunov function during tracking.\\n \\n\\n 312 IEEE/CAA JOURNAL OF AUTOMATICA SINICA, VOL. 7, NO. 1, JANUARY 2020\\n\\n\\n\\nV. \\xa0Conclusions\\n\\nThe  work  in  this  paper  presented  the  event-driven  sliding\\nmode  control  for  tracking  problem  of  a  class  of  nonlinear\\ninput  affine  system  in  the  presence  of  the  uncertainty.  The\\nproposed  approach  guarantees  asymptotic  stability  for  the\\ndesired  trajectory.  It  also  ensures  boundedness  of  error  and\\navoids Zeno behavior on the sliding surfaces.  Inter-execution\\ntime  for  proposed  control  approach  is  verified  through\\nsimulation results. The presented work shows performance of\\nthe system at par with traditional periodic triggering approach\\nin  the  terms  of  processing  time.  The  proposed  approach  also\\nsignificantly  reduces  the  number  of  actuator  actions  required\\nto  address  trajectory  tracking  problem.  This  ensures\\noptimization of  resources available for  any system operation.\\nThe  approach  can  be  restrictive  to  some  critical  applications\\nwhere high threshold error and chattering cannot be tolerated.\\nThis  approach can be extended to  multi-agent  systems in  the\\npresence of disturbance and can be implemented on real-time\\nframework in future.\\n\\nReferences\\n K. E. Arzen, “A simple event-based PID controller”, in Proc. IFAC 14th\\nWorld Congr., China, pp. 423–428, 1999.\\n\\n[1]\\n\\n K.  J.  Astrom  and  B.  M.  Bernhardsson, “Comparison  of  Riemann  and\\nLebesgue  sampling  for  first  order  stochastic  systems”,  in Proc.  IEEE\\nConf. Dec. and Control, USA, pp. 2011–2016, 2002.\\n\\n[2]\\n\\n P. Tabuada, “Event-triggered real-time scheduling of stabilizing control\\ntasks,” IEEE Trans. Autom. Control,  vol. 52,  no. 9,  pp. 1680–1685,\\n2007.\\n\\n[3]\\n\\n W.  Heemels,  J.  Sandee,  and  P.  Van  Den  Bosch, “Analysis  of  event\\ndriven  controllers  for  linear  systems,” Int. J. Control,  vol. 81,  no. 4,\\npp. 571–590, 2008.\\n\\n[4]\\n\\n J.  Lunze  and  D.  Lehmann, “A state-feedback  approach  to  event-based\\ncontrol,” Automatica, vol. 46, no. 1, pp. 211–215, 2010.\\n\\n[5]\\n\\n M.  Donkers  and  W.  Heemels, “Output-based  event-triggered  control\\nwith guaranteed L1-gain and improved event-triggering”, in Proc. IEEE\\nConf. Dec. and Control, USA, pp. 3246–3251, 2010.\\n\\n[6]\\n\\n A.  Girard, “Dynamic  triggering  mechanisms  for  event-triggered\\ncontrol,” IEEE  Trans.  Autom.  Control,  vol. 607,  no. 7,  pp. 1992–1997,\\nJul. 2015.\\n\\n[7]\\n\\n X.  F.  Wang  and  M.  D.  Lemmon., “Event-triggering  in  distributed\\nnetworked control systems,” IEEE Trans. Autom. Control, vol. 56, no. 3,\\npp. 586–601, 2011.\\n\\n[8]\\n\\n M.  Mazo  and  P.  Tabuada, “Decentralized  event-triggered  control  over\\nwireless  sensor/actuator  networks,” IEEE Trans. Autom. Control,\\nvol. 56, no. 10, pp. 2456–2461, 2011.\\n\\n[9]\\n\\n N.  Mu,  X.  Liao,  and  T.  Huang, “Event-based  consensus  control  for  a\\nlinear  directed  multiagent  system  with  time  delay,” IEEE Trans.\\nCircuits Syst., vol. 62, no. 3, pp. 281–185, 2015.\\n\\n[10]\\n\\n N.  K.  Dhar,  N.  K.  Verma,  and  L.  Behera, “Adaptive  critic  based\\neventtriggered  control  for  HVAC  system,” IEEE Trans. Ind. Informat.,\\nvol. 14, no. 1, pp. 178–188, 2018.\\n\\n[11]\\n\\n A.  Behera  and  B.  Bandyopadhyay, “Robust  sliding  mode  control:  an\\nevent-triggering  approach,” IEEE Trans. Circuits Syst.,  vol. 64,  no. 2,\\npp. 146–150, 2017.\\n\\n[12]\\n\\n A.  K.  Behera  and  B.  Bandyopadhyay, “Self-triggering  based  sliding\\nmode  control  for  linear  systems,” IET Control Theory Appl.,  vol. 9,\\nno. 17, pp. 2541–2547, 2015.\\n\\n[13]\\n\\n P.  Postoyan  and  P.  Tabuada, “A  framework  for  the  event-triggered\\nstabilization  of  nonlinear  systems,” IEEE Trans. Autom. Control,\\nvol. 60, no. 4, pp. 982–996, 2015.\\n\\n[14]\\n\\n P.  Tallapragada  and  N.  Chopra, “On  event  triggered  tracking  for\\nnonlinear  systems,” IEEE Trans. Autom. Control,  vol. 58,  no. 9,\\npp. 2343–2348, 2013.\\n\\n[15]\\n\\n \\n\\nTABLE I  \\nComparison of Time-Triggered and Proposed Event-\\n\\nTriggered SMC Controller\\n\\nDisturbance Approach Samples Convergence\\ntime (s)\\n\\nConstant\\nTime-triggered [19] 1000 6.0\\n\\nProposed 441 6.4 #\\n\\nTime-varying\\nTime-triggered [19] 1000 6.2\\n\\nProposed 606 6.7 #\\n\\n# Convergence time of proposed approach is more but saves lot of events.\\n \\n\\n \\n\\n−2\\n\\n−1\\n\\n0\\n\\n1\\n\\n2\\n\\nP\\no\\nsi\\n\\nti\\no\\nn\\n (\\n\\nra\\nd\\n/s\\n\\n)\\n\\nDesired\\nJoint 1\\nJoint 2\\n\\n0 1 2 3 4 5 6 7 8 9 10\\nTime (s)\\n\\n \\nFig. 10.     Angular positions of joints during trajectory tracking under time\\nvarying disturbance.\\n \\n\\n \\n\\n0 1 2 3 4 5 6 7 8 9 10\\nTime (s)\\n\\n−0.5\\n0\\n\\n0.5\\n1.0\\n1.5\\n2.0\\n\\nE\\nrr\\n\\no\\nr \\n\\n(r\\nad\\n\\n/s\\n)\\n\\nJ1 Position error\\nJ2 Position error\\n\\n \\nFig. 11.     Tracking error for angular positions of joints under time varying\\ndisturbance.\\n \\n\\n \\n\\n0 1 2 3 4 5 6 7 8 9 10\\nTime (s)\\n\\n0\\n\\n0.5\\n\\n1.0\\n\\n1.5\\n\\n2.0\\n\\n2.5\\nEvent trigger error\\nError threshold\\nTracking error\\n\\n \\nFig. 12.     Normalized values of various error parameters under time varying\\ndisturbance.\\n \\n\\n \\n\\nTime (s)\\n\\n0\\n\\n0.06\\n\\n0.2\\n\\n0.4\\nEvent trigger error\\nError threshold\\nTracking error\\n\\n5.5 6.0 6.5 7.0 7.5 8.0 8.5\\n\\n \\nFig. 13.     Error parameters and triggering instants (zoomed view) under time\\nvarying disturbance.\\n \\n\\nMUSTAFA et al.: EVENT-TRIGGERED SLIDING MODE CONTROL FOR TRAJECTORY TRACKING OF NONLINEAR SYSTEMS 313 \\n\\n\\n\\n P. Tallapragada and N. Chopra, “On event triggered trajectory tracking\\nfor control affine nonlinear systems”, in Proc. 50th IEEE Dec. Control\\nand Euro. Control Conf., USA, pp. 5377–5382, 2011.\\n\\n[16]\\n\\n V.  I.  Utkin, “Variable  structure  systems  with  sliding  modes,” IEEE\\nTrans. Autom. Control, vol. 22, no. 2, pp. 212–222, Apr. 1977.\\n\\n[17]\\n\\n N. K. Verma,  N.  K.  Dhar,  A.  K.  Kar,  R.  Dev,  S.  S.  F.  Nawaz,  and A.\\nSalour, “Internet  of  things  based  framework  for  trajectory  tracking\\ncontrol”,  in Proc.  IEEE  World  Forum  on  Int.  of  Things,  USA,  pp.\\n265–270, 2016.\\n\\n[18]\\n\\n A.  Mustafa,  N.  K.  Dhar,  P.  Agrawal,  and  N.  K.  Verma, “Adaptive\\nbackstepping  sliding  Mode  control  based  on  nonlinear  disturbance\\nobserver for trajectory tracking of robotic manipulator”, in Proc. IEEE\\nInt. Conf. Control and Robotics Eng., Thailand, pp. 29–34, 2017.\\n\\n[19]\\n\\n W.  Gao,  Y.  Wang,  and  A.  Homaifa, “Discrete-time  variable  structure\\ncontrol  systems,” IEEE  Trans.  Ind.  Electron.,  vol. 42,  no. 2,\\npp. 177–122, 1995.\\n\\n[20]\\n\\n H.  Li,  P.  Shi,  and  D.  Yao, “Adaptive  sliding-mode  control  of  Markov\\njump  nonlinear  systems  with  actuator  faults,” IEEE Trans. Autom.\\nControl, vol. 62, no. 4, pp. 1933–1939, 2017.\\n\\n[21]\\n\\n A. K. Behera and B. Bandyopadhyay, “Event based robust stabilization\\nof linear  systems”,  in Proc.  Annual IEEE Conf.  Ind.  Electron.  Society,\\nUSA, pp. 133–138, 2014.\\n\\n[22]\\n\\n A.  Ferrara  and  M.  Cucuzzella, “Event-triggered  sliding  mode  control\\nstrategies  for  a  class  of  nonlinear  uncertain  systems”, Clempner  J.,  Yu\\nW. (eds) New Perspectives and Applications of Modern Control Theory.\\nSpringer, Chapter 16, pp. 397–425, 2018.\\n\\n[23]\\n\\n J.  J.  Craig, Introduction  to  Robotics:  Mechanics  and  Control,\\nAddisonWesley Longman, 1989.\\n\\n[24]\\n\\n M. W.  Spong  and  M.  Vidyasagar, Robot  Dynamics  and  Control,  John\\nWiley and Sons, 2008.\\n\\n[25]\\n\\n A. D. Luca, “Zero dynamics in robotic systems, ” Nonlinear Synthesis:\\nProgress in Systems and Control Theory, vol 9, pp. 68–87, 1991.\\n\\n[26]\\n\\n H. Khalil, Nonlinear Systems, Prentice Hall, 2002.[27]\\n Z.  Qu, “Input-output  robust  tracking  control  design  for  flexible  joint\\nrobots,” IEEE Trans. Automatic Control, vol. 40, no. 1, pp. 78–83, 1995.\\n\\n[28]\\n\\n M. Cucuzzella and A. Ferrara, “Practical second order sliding modes in\\nsingle-loop  networked  control  of  nonlinear  systems,” Automatica,\\nvol. 89, pp. 235–240, Mar. 2018.\\n\\n[29]\\n\\nAquib Mustafa (S’17) received the B. Tech. degree\\nfrom the Aligarh Muslim University,  Aligarh,  India,\\nin 2013, and the master degree from the Indian Insti-\\ntute  of  Technology  Kanpur,  Kanpur,  India,  in  2016.\\nHe is currently pursuing the Ph.D. degree in the De-\\npartment of Mechanical Engineering, Michigan State\\nUniversity,  East  Lansing,  USA.  His  main  research\\ninterests include  resilient  control,  multi-agent  sys-\\ntems, and sensor networks.\\n\\nNarendra  Kumar  Dhar received  the  Master’s de-\\ngree in control system from Indian Institute of Tech-\\nnology  Roorkee,  India.  He  is  currently  pursuing  his\\nPh.D.  in  the  Department  of  Electrical  Engineering,\\nIndian  Institute  of  Technology  Kanpur,  India.  His\\nmain research  interests  include  cyber-physical  sys-\\ntems,  optimal  control,  smart  home  automation,  and\\nsoft computing.\\n\\nNishchal  Kumar  Verma (SM’13)  received  the\\nPh.D.  degree  in  electrical  engineering  from  Indian\\nInstitute  of  Technology  Delhi,  New  Delhi,  India,  in\\n2007. He is currently an Associate Professor with the\\nDepartment of  Electrical  Engineering,  Indian  Insti-\\ntute of  Technology  Kanpur,  Kanpur,  India.  His  cur-\\nrent research  interests  include  theory  and  applica-\\ntions of  computational  intelligence,  big  data  analyt-\\nics, internet  of  things,  intelligent  data  mining  al-\\ngorithms, and computer vision.\\n\\n 314 IEEE/CAA JOURNAL OF AUTOMATICA SINICA, VOL. 7, NO. 1, JANUARY 2020\\n\\n\\n'}\n"
          ]
        }
      ]
    },
    {
      "cell_type": "code",
      "source": [
        "# Combine all author paper contents\n",
        "all_author_texts = [paper['content'] if paper['content'] else \"\" for paper in author_papers]\n",
        "\n",
        "# Create TF-IDF vectorizer and fit it on all author papers\n",
        "vectorizer = TfidfVectorizer()\n",
        "tfidf_matrix = vectorizer.fit_transform(all_author_texts)\n",
        "\n",
        "# Save TF-IDF matrix and vectorizer to Google Drive\n",
        "with open('tfidf_matrix.pkl', 'wb') as f:\n",
        "    pickle.dump(tfidf_matrix, f)\n",
        "with open('vectorizer.pkl', 'wb') as f:\n",
        "    pickle.dump(vectorizer, f)\n",
        "\n",
        "drive_path_matrix = '/content/drive/MyDrive/NLP1/tfidf_matrix.pkl'\n",
        "drive_path_vectorizer = '/content/drive/MyDrive/NLP1/vectorizer.pkl'\n",
        "!cp tfidf_matrix.pkl {drive_path_matrix}\n",
        "!cp vectorizer.pkl {drive_path_vectorizer}"
      ],
      "metadata": {
        "id": "gVIGKprPSw9_"
      },
      "execution_count": 36,
      "outputs": []
    },
    {
      "cell_type": "code",
      "source": [
        "print(tfidf_matrix)"
      ],
      "metadata": {
        "colab": {
          "base_uri": "https://localhost:8080/"
        },
        "id": "QYKp-rtTXcNm",
        "outputId": "61960363-d24f-45b0-c5d8-cc79d0463245"
      },
      "execution_count": 37,
      "outputs": [
        {
          "output_type": "stream",
          "name": "stdout",
          "text": [
            "  (0, 122114)\t0.003097074526516928\n",
            "  (0, 38194)\t0.0014524276252389356\n",
            "  (0, 57044)\t0.005333294985784125\n",
            "  (0, 79753)\t0.0023846849585639324\n",
            "  (0, 65453)\t0.0022327741378422145\n",
            "  (0, 62622)\t0.003770244864923897\n",
            "  (0, 23933)\t0.006989484860525374\n",
            "  (0, 30145)\t0.0027082961402451738\n",
            "  (0, 65450)\t0.002028405470614685\n",
            "  (0, 115675)\t0.0026004792367718323\n",
            "  (0, 25178)\t0.004124747050951962\n",
            "  (0, 98803)\t0.004809716877468619\n",
            "  (0, 40745)\t0.004664728462166967\n",
            "  (0, 94535)\t0.002805028944833098\n",
            "  (0, 42624)\t0.004749206279162459\n",
            "  (0, 107723)\t0.0036046775749954173\n",
            "  (0, 38217)\t0.001681900674680572\n",
            "  (0, 108187)\t0.002547109588183156\n",
            "  (0, 27130)\t0.003253980132500098\n",
            "  (0, 60952)\t0.0035768928701628904\n",
            "  (0, 107755)\t0.003017102699078076\n",
            "  (0, 40994)\t0.003981621940097994\n",
            "  (0, 100777)\t0.0056769854377559\n",
            "  (0, 85002)\t0.0044469110023417115\n",
            "  (0, 65327)\t0.004624497056823378\n",
            "  :\t:\n",
            "  (637, 55654)\t0.003324224389644342\n",
            "  (637, 65827)\t0.015653689850328476\n",
            "  (637, 87598)\t0.008102421659846612\n",
            "  (637, 104568)\t0.002726402126641845\n",
            "  (637, 94785)\t0.018730536839268064\n",
            "  (637, 29074)\t0.017118709426832652\n",
            "  (637, 59317)\t0.016103693211320817\n",
            "  (637, 124344)\t0.022038849088547263\n",
            "  (637, 112434)\t0.0022862692430286858\n",
            "  (637, 65146)\t0.03246520323516797\n",
            "  (637, 94399)\t0.0053106324443637125\n",
            "  (637, 25245)\t0.004826650152320762\n",
            "  (637, 23872)\t0.008039253336527982\n",
            "  (637, 89219)\t0.013566580308705709\n",
            "  (637, 115047)\t0.03600717159493101\n",
            "  (637, 64030)\t0.10385804406276174\n",
            "  (637, 20756)\t0.002208213648068975\n",
            "  (637, 121380)\t0.0069205538684454495\n",
            "  (637, 24049)\t0.15978160625040266\n",
            "  (637, 62856)\t0.007263180203620835\n",
            "  (637, 112464)\t0.004638226528277256\n",
            "  (637, 85154)\t0.047292772613673664\n",
            "  (637, 86528)\t0.14979525585975248\n",
            "  (637, 53476)\t0.06990445273455118\n",
            "  (637, 39089)\t0.009023883846613897\n"
          ]
        }
      ]
    },
    {
      "cell_type": "code",
      "source": [
        "# # Measure text-based similarity\n",
        "# def tfidf_cosine_similarity(paper_content, author_papers):\n",
        "#     vectorizer = TfidfVectorizer()\n",
        "#     all_texts = [paper_content] + [paper['content'] for paper in author_papers]\n",
        "#     tfidf_matrix = vectorizer.fit_transform(all_texts)\n",
        "#     print(tfidf_matrix.shape)\n",
        "#     similarity_matrix = cosine_similarity(tfidf_matrix[0:1], tfidf_matrix[1:])\n",
        "#     return similarity_matrix[0]\n",
        "\n",
        "# # Example of calculating similarities for a single paper\n",
        "# sample_paper_content = author_papers[0]['content']\n",
        "# # print(sample_paper_content)\n",
        "# similarities = tfidf_cosine_similarity(sample_paper_content, author_papers)"
      ],
      "metadata": {
        "colab": {
          "base_uri": "https://localhost:8080/",
          "height": 316
        },
        "collapsed": true,
        "id": "JPNdsUvU3Y4u",
        "outputId": "8adb8d2c-2ca3-40cc-a1b4-0a4028e13f38"
      },
      "execution_count": 38,
      "outputs": [
        {
          "output_type": "error",
          "ename": "AttributeError",
          "evalue": "'NoneType' object has no attribute 'lower'",
          "traceback": [
            "\u001b[0;31m---------------------------------------------------------------------------\u001b[0m",
            "\u001b[0;31mAttributeError\u001b[0m                            Traceback (most recent call last)",
            "\u001b[0;32m<ipython-input-38-5cb87847b3b2>\u001b[0m in \u001b[0;36m<cell line: 13>\u001b[0;34m()\u001b[0m\n\u001b[1;32m     11\u001b[0m \u001b[0msample_paper_content\u001b[0m \u001b[0;34m=\u001b[0m \u001b[0mauthor_papers\u001b[0m\u001b[0;34m[\u001b[0m\u001b[0;36m0\u001b[0m\u001b[0;34m]\u001b[0m\u001b[0;34m[\u001b[0m\u001b[0;34m'content'\u001b[0m\u001b[0;34m]\u001b[0m\u001b[0;34m\u001b[0m\u001b[0;34m\u001b[0m\u001b[0m\n\u001b[1;32m     12\u001b[0m \u001b[0;31m# print(sample_paper_content)\u001b[0m\u001b[0;34m\u001b[0m\u001b[0;34m\u001b[0m\u001b[0m\n\u001b[0;32m---> 13\u001b[0;31m \u001b[0msimilarities\u001b[0m \u001b[0;34m=\u001b[0m \u001b[0mtfidf_cosine_similarity\u001b[0m\u001b[0;34m(\u001b[0m\u001b[0msample_paper_content\u001b[0m\u001b[0;34m,\u001b[0m \u001b[0mauthor_papers\u001b[0m\u001b[0;34m)\u001b[0m\u001b[0;34m\u001b[0m\u001b[0;34m\u001b[0m\u001b[0m\n\u001b[0m",
            "\u001b[0;32m<ipython-input-38-5cb87847b3b2>\u001b[0m in \u001b[0;36mtfidf_cosine_similarity\u001b[0;34m(paper_content, author_papers)\u001b[0m\n\u001b[1;32m      3\u001b[0m     \u001b[0mvectorizer\u001b[0m \u001b[0;34m=\u001b[0m \u001b[0mTfidfVectorizer\u001b[0m\u001b[0;34m(\u001b[0m\u001b[0;34m)\u001b[0m\u001b[0;34m\u001b[0m\u001b[0;34m\u001b[0m\u001b[0m\n\u001b[1;32m      4\u001b[0m     \u001b[0mall_texts\u001b[0m \u001b[0;34m=\u001b[0m \u001b[0;34m[\u001b[0m\u001b[0mpaper_content\u001b[0m\u001b[0;34m]\u001b[0m \u001b[0;34m+\u001b[0m \u001b[0;34m[\u001b[0m\u001b[0mpaper\u001b[0m\u001b[0;34m[\u001b[0m\u001b[0;34m'content'\u001b[0m\u001b[0;34m]\u001b[0m \u001b[0;32mfor\u001b[0m \u001b[0mpaper\u001b[0m \u001b[0;32min\u001b[0m \u001b[0mauthor_papers\u001b[0m\u001b[0;34m]\u001b[0m\u001b[0;34m\u001b[0m\u001b[0;34m\u001b[0m\u001b[0m\n\u001b[0;32m----> 5\u001b[0;31m     \u001b[0mtfidf_matrix\u001b[0m \u001b[0;34m=\u001b[0m \u001b[0mvectorizer\u001b[0m\u001b[0;34m.\u001b[0m\u001b[0mfit_transform\u001b[0m\u001b[0;34m(\u001b[0m\u001b[0mall_texts\u001b[0m\u001b[0;34m)\u001b[0m\u001b[0;34m\u001b[0m\u001b[0;34m\u001b[0m\u001b[0m\n\u001b[0m\u001b[1;32m      6\u001b[0m     \u001b[0mprint\u001b[0m\u001b[0;34m(\u001b[0m\u001b[0mtfidf_matrix\u001b[0m\u001b[0;34m.\u001b[0m\u001b[0mshape\u001b[0m\u001b[0;34m)\u001b[0m\u001b[0;34m\u001b[0m\u001b[0;34m\u001b[0m\u001b[0m\n\u001b[1;32m      7\u001b[0m     \u001b[0msimilarity_matrix\u001b[0m \u001b[0;34m=\u001b[0m \u001b[0mcosine_similarity\u001b[0m\u001b[0;34m(\u001b[0m\u001b[0mtfidf_matrix\u001b[0m\u001b[0;34m[\u001b[0m\u001b[0;36m0\u001b[0m\u001b[0;34m:\u001b[0m\u001b[0;36m1\u001b[0m\u001b[0;34m]\u001b[0m\u001b[0;34m,\u001b[0m \u001b[0mtfidf_matrix\u001b[0m\u001b[0;34m[\u001b[0m\u001b[0;36m1\u001b[0m\u001b[0;34m:\u001b[0m\u001b[0;34m]\u001b[0m\u001b[0;34m)\u001b[0m\u001b[0;34m\u001b[0m\u001b[0;34m\u001b[0m\u001b[0m\n",
            "\u001b[0;32m/usr/local/lib/python3.10/dist-packages/sklearn/feature_extraction/text.py\u001b[0m in \u001b[0;36mfit_transform\u001b[0;34m(self, raw_documents, y)\u001b[0m\n\u001b[1;32m   2131\u001b[0m             \u001b[0msublinear_tf\u001b[0m\u001b[0;34m=\u001b[0m\u001b[0mself\u001b[0m\u001b[0;34m.\u001b[0m\u001b[0msublinear_tf\u001b[0m\u001b[0;34m,\u001b[0m\u001b[0;34m\u001b[0m\u001b[0;34m\u001b[0m\u001b[0m\n\u001b[1;32m   2132\u001b[0m         )\n\u001b[0;32m-> 2133\u001b[0;31m         \u001b[0mX\u001b[0m \u001b[0;34m=\u001b[0m \u001b[0msuper\u001b[0m\u001b[0;34m(\u001b[0m\u001b[0;34m)\u001b[0m\u001b[0;34m.\u001b[0m\u001b[0mfit_transform\u001b[0m\u001b[0;34m(\u001b[0m\u001b[0mraw_documents\u001b[0m\u001b[0;34m)\u001b[0m\u001b[0;34m\u001b[0m\u001b[0;34m\u001b[0m\u001b[0m\n\u001b[0m\u001b[1;32m   2134\u001b[0m         \u001b[0mself\u001b[0m\u001b[0;34m.\u001b[0m\u001b[0m_tfidf\u001b[0m\u001b[0;34m.\u001b[0m\u001b[0mfit\u001b[0m\u001b[0;34m(\u001b[0m\u001b[0mX\u001b[0m\u001b[0;34m)\u001b[0m\u001b[0;34m\u001b[0m\u001b[0;34m\u001b[0m\u001b[0m\n\u001b[1;32m   2135\u001b[0m         \u001b[0;31m# X is already a transformed view of raw_documents so\u001b[0m\u001b[0;34m\u001b[0m\u001b[0;34m\u001b[0m\u001b[0m\n",
            "\u001b[0;32m/usr/local/lib/python3.10/dist-packages/sklearn/feature_extraction/text.py\u001b[0m in \u001b[0;36mfit_transform\u001b[0;34m(self, raw_documents, y)\u001b[0m\n\u001b[1;32m   1386\u001b[0m                     \u001b[0;32mbreak\u001b[0m\u001b[0;34m\u001b[0m\u001b[0;34m\u001b[0m\u001b[0m\n\u001b[1;32m   1387\u001b[0m \u001b[0;34m\u001b[0m\u001b[0m\n\u001b[0;32m-> 1388\u001b[0;31m         \u001b[0mvocabulary\u001b[0m\u001b[0;34m,\u001b[0m \u001b[0mX\u001b[0m \u001b[0;34m=\u001b[0m \u001b[0mself\u001b[0m\u001b[0;34m.\u001b[0m\u001b[0m_count_vocab\u001b[0m\u001b[0;34m(\u001b[0m\u001b[0mraw_documents\u001b[0m\u001b[0;34m,\u001b[0m \u001b[0mself\u001b[0m\u001b[0;34m.\u001b[0m\u001b[0mfixed_vocabulary_\u001b[0m\u001b[0;34m)\u001b[0m\u001b[0;34m\u001b[0m\u001b[0;34m\u001b[0m\u001b[0m\n\u001b[0m\u001b[1;32m   1389\u001b[0m \u001b[0;34m\u001b[0m\u001b[0m\n\u001b[1;32m   1390\u001b[0m         \u001b[0;32mif\u001b[0m \u001b[0mself\u001b[0m\u001b[0;34m.\u001b[0m\u001b[0mbinary\u001b[0m\u001b[0;34m:\u001b[0m\u001b[0;34m\u001b[0m\u001b[0;34m\u001b[0m\u001b[0m\n",
            "\u001b[0;32m/usr/local/lib/python3.10/dist-packages/sklearn/feature_extraction/text.py\u001b[0m in \u001b[0;36m_count_vocab\u001b[0;34m(self, raw_documents, fixed_vocab)\u001b[0m\n\u001b[1;32m   1273\u001b[0m         \u001b[0;32mfor\u001b[0m \u001b[0mdoc\u001b[0m \u001b[0;32min\u001b[0m \u001b[0mraw_documents\u001b[0m\u001b[0;34m:\u001b[0m\u001b[0;34m\u001b[0m\u001b[0;34m\u001b[0m\u001b[0m\n\u001b[1;32m   1274\u001b[0m             \u001b[0mfeature_counter\u001b[0m \u001b[0;34m=\u001b[0m \u001b[0;34m{\u001b[0m\u001b[0;34m}\u001b[0m\u001b[0;34m\u001b[0m\u001b[0;34m\u001b[0m\u001b[0m\n\u001b[0;32m-> 1275\u001b[0;31m             \u001b[0;32mfor\u001b[0m \u001b[0mfeature\u001b[0m \u001b[0;32min\u001b[0m \u001b[0manalyze\u001b[0m\u001b[0;34m(\u001b[0m\u001b[0mdoc\u001b[0m\u001b[0;34m)\u001b[0m\u001b[0;34m:\u001b[0m\u001b[0;34m\u001b[0m\u001b[0;34m\u001b[0m\u001b[0m\n\u001b[0m\u001b[1;32m   1276\u001b[0m                 \u001b[0;32mtry\u001b[0m\u001b[0;34m:\u001b[0m\u001b[0;34m\u001b[0m\u001b[0;34m\u001b[0m\u001b[0m\n\u001b[1;32m   1277\u001b[0m                     \u001b[0mfeature_idx\u001b[0m \u001b[0;34m=\u001b[0m \u001b[0mvocabulary\u001b[0m\u001b[0;34m[\u001b[0m\u001b[0mfeature\u001b[0m\u001b[0;34m]\u001b[0m\u001b[0;34m\u001b[0m\u001b[0;34m\u001b[0m\u001b[0m\n",
            "\u001b[0;32m/usr/local/lib/python3.10/dist-packages/sklearn/feature_extraction/text.py\u001b[0m in \u001b[0;36m_analyze\u001b[0;34m(doc, analyzer, tokenizer, ngrams, preprocessor, decoder, stop_words)\u001b[0m\n\u001b[1;32m    109\u001b[0m     \u001b[0;32melse\u001b[0m\u001b[0;34m:\u001b[0m\u001b[0;34m\u001b[0m\u001b[0;34m\u001b[0m\u001b[0m\n\u001b[1;32m    110\u001b[0m         \u001b[0;32mif\u001b[0m \u001b[0mpreprocessor\u001b[0m \u001b[0;32mis\u001b[0m \u001b[0;32mnot\u001b[0m \u001b[0;32mNone\u001b[0m\u001b[0;34m:\u001b[0m\u001b[0;34m\u001b[0m\u001b[0;34m\u001b[0m\u001b[0m\n\u001b[0;32m--> 111\u001b[0;31m             \u001b[0mdoc\u001b[0m \u001b[0;34m=\u001b[0m \u001b[0mpreprocessor\u001b[0m\u001b[0;34m(\u001b[0m\u001b[0mdoc\u001b[0m\u001b[0;34m)\u001b[0m\u001b[0;34m\u001b[0m\u001b[0;34m\u001b[0m\u001b[0m\n\u001b[0m\u001b[1;32m    112\u001b[0m         \u001b[0;32mif\u001b[0m \u001b[0mtokenizer\u001b[0m \u001b[0;32mis\u001b[0m \u001b[0;32mnot\u001b[0m \u001b[0;32mNone\u001b[0m\u001b[0;34m:\u001b[0m\u001b[0;34m\u001b[0m\u001b[0;34m\u001b[0m\u001b[0m\n\u001b[1;32m    113\u001b[0m             \u001b[0mdoc\u001b[0m \u001b[0;34m=\u001b[0m \u001b[0mtokenizer\u001b[0m\u001b[0;34m(\u001b[0m\u001b[0mdoc\u001b[0m\u001b[0;34m)\u001b[0m\u001b[0;34m\u001b[0m\u001b[0;34m\u001b[0m\u001b[0m\n",
            "\u001b[0;32m/usr/local/lib/python3.10/dist-packages/sklearn/feature_extraction/text.py\u001b[0m in \u001b[0;36m_preprocess\u001b[0;34m(doc, accent_function, lower)\u001b[0m\n\u001b[1;32m     67\u001b[0m     \"\"\"\n\u001b[1;32m     68\u001b[0m     \u001b[0;32mif\u001b[0m \u001b[0mlower\u001b[0m\u001b[0;34m:\u001b[0m\u001b[0;34m\u001b[0m\u001b[0;34m\u001b[0m\u001b[0m\n\u001b[0;32m---> 69\u001b[0;31m         \u001b[0mdoc\u001b[0m \u001b[0;34m=\u001b[0m \u001b[0mdoc\u001b[0m\u001b[0;34m.\u001b[0m\u001b[0mlower\u001b[0m\u001b[0;34m(\u001b[0m\u001b[0;34m)\u001b[0m\u001b[0;34m\u001b[0m\u001b[0;34m\u001b[0m\u001b[0m\n\u001b[0m\u001b[1;32m     70\u001b[0m     \u001b[0;32mif\u001b[0m \u001b[0maccent_function\u001b[0m \u001b[0;32mis\u001b[0m \u001b[0;32mnot\u001b[0m \u001b[0;32mNone\u001b[0m\u001b[0;34m:\u001b[0m\u001b[0;34m\u001b[0m\u001b[0;34m\u001b[0m\u001b[0m\n\u001b[1;32m     71\u001b[0m         \u001b[0mdoc\u001b[0m \u001b[0;34m=\u001b[0m \u001b[0maccent_function\u001b[0m\u001b[0;34m(\u001b[0m\u001b[0mdoc\u001b[0m\u001b[0;34m)\u001b[0m\u001b[0;34m\u001b[0m\u001b[0;34m\u001b[0m\u001b[0m\n",
            "\u001b[0;31mAttributeError\u001b[0m: 'NoneType' object has no attribute 'lower'"
          ]
        }
      ]
    },
    {
      "cell_type": "code",
      "source": [
        "# Function to compute similarities for a new paper\n",
        "def compute_similarities_new_paper(new_paper_content):\n",
        "    new_paper_tfidf = vectorizer.transform([new_paper_content if new_paper_content else \"\"])\n",
        "    similarity_matrix = cosine_similarity(new_paper_tfidf, tfidf_matrix)\n",
        "    print(new_paper_tfidf.shape)\n",
        "    return similarity_matrix[0]"
      ],
      "metadata": {
        "id": "sUlYU_OATQVi"
      },
      "execution_count": 47,
      "outputs": []
    },
    {
      "cell_type": "code",
      "source": [
        "# Load precomputed TF-IDF matrix and vectorizer from Google Drive\n",
        "!cp {drive_path_matrix} tfidf_matrix.pkl\n",
        "!cp {drive_path_vectorizer} vectorizer.pkl\n",
        "with open('tfidf_matrix.pkl', 'rb') as f:\n",
        "    tfidf_matrix = pickle.load(f)\n",
        "with open('vectorizer.pkl', 'rb') as f:\n",
        "    vectorizer = pickle.load(f)"
      ],
      "metadata": {
        "id": "9SwKK7M8TRTq"
      },
      "execution_count": 40,
      "outputs": []
    },
    {
      "cell_type": "code",
      "source": [
        "print(tfidf_matrix.shape)\n",
        "print(vectorizer.get_feature_names_out())\n",
        "# print(len(vectorizer.get_feature_names_out))\n",
        "print(tfidf_matrix)"
      ],
      "metadata": {
        "colab": {
          "base_uri": "https://localhost:8080/"
        },
        "id": "ztjzhohETZTg",
        "outputId": "3f0bb9e6-b72f-4617-dd50-4812b1e55a0c"
      },
      "execution_count": 45,
      "outputs": [
        {
          "output_type": "stream",
          "name": "stdout",
          "text": [
            "(638, 130892)\n",
            "['00' '000' '0000' ... '𝟏𝟎' '𝟏𝟓' '𝟐𝟒']\n",
            "  (0, 122114)\t0.003097074526516928\n",
            "  (0, 38194)\t0.0014524276252389356\n",
            "  (0, 57044)\t0.005333294985784125\n",
            "  (0, 79753)\t0.0023846849585639324\n",
            "  (0, 65453)\t0.0022327741378422145\n",
            "  (0, 62622)\t0.003770244864923897\n",
            "  (0, 23933)\t0.006989484860525374\n",
            "  (0, 30145)\t0.0027082961402451738\n",
            "  (0, 65450)\t0.002028405470614685\n",
            "  (0, 115675)\t0.0026004792367718323\n",
            "  (0, 25178)\t0.004124747050951962\n",
            "  (0, 98803)\t0.004809716877468619\n",
            "  (0, 40745)\t0.004664728462166967\n",
            "  (0, 94535)\t0.002805028944833098\n",
            "  (0, 42624)\t0.004749206279162459\n",
            "  (0, 107723)\t0.0036046775749954173\n",
            "  (0, 38217)\t0.001681900674680572\n",
            "  (0, 108187)\t0.002547109588183156\n",
            "  (0, 27130)\t0.003253980132500098\n",
            "  (0, 60952)\t0.0035768928701628904\n",
            "  (0, 107755)\t0.003017102699078076\n",
            "  (0, 40994)\t0.003981621940097994\n",
            "  (0, 100777)\t0.0056769854377559\n",
            "  (0, 85002)\t0.0044469110023417115\n",
            "  (0, 65327)\t0.004624497056823378\n",
            "  :\t:\n",
            "  (637, 55654)\t0.003324224389644342\n",
            "  (637, 65827)\t0.015653689850328476\n",
            "  (637, 87598)\t0.008102421659846612\n",
            "  (637, 104568)\t0.002726402126641845\n",
            "  (637, 94785)\t0.018730536839268064\n",
            "  (637, 29074)\t0.017118709426832652\n",
            "  (637, 59317)\t0.016103693211320817\n",
            "  (637, 124344)\t0.022038849088547263\n",
            "  (637, 112434)\t0.0022862692430286858\n",
            "  (637, 65146)\t0.03246520323516797\n",
            "  (637, 94399)\t0.0053106324443637125\n",
            "  (637, 25245)\t0.004826650152320762\n",
            "  (637, 23872)\t0.008039253336527982\n",
            "  (637, 89219)\t0.013566580308705709\n",
            "  (637, 115047)\t0.03600717159493101\n",
            "  (637, 64030)\t0.10385804406276174\n",
            "  (637, 20756)\t0.002208213648068975\n",
            "  (637, 121380)\t0.0069205538684454495\n",
            "  (637, 24049)\t0.15978160625040266\n",
            "  (637, 62856)\t0.007263180203620835\n",
            "  (637, 112464)\t0.004638226528277256\n",
            "  (637, 85154)\t0.047292772613673664\n",
            "  (637, 86528)\t0.14979525585975248\n",
            "  (637, 53476)\t0.06990445273455118\n",
            "  (637, 39089)\t0.009023883846613897\n"
          ]
        }
      ]
    },
    {
      "cell_type": "code",
      "source": [
        "sample_new_paper_content = \"Clustering is defined as an unsupervised learning where the objects are grouped on the basis of some similarity inherent among them.\"\n",
        "similarities = compute_similarities_new_paper(sample_new_paper_content)\n",
        "# print(similarities)"
      ],
      "metadata": {
        "colab": {
          "base_uri": "https://localhost:8080/"
        },
        "id": "lxgE5GTaT66E",
        "outputId": "fb9341d3-c8c4-4eab-8a73-8f16955c2d09"
      },
      "execution_count": 49,
      "outputs": [
        {
          "output_type": "stream",
          "name": "stdout",
          "text": [
            "(1, 130892)\n"
          ]
        }
      ]
    },
    {
      "cell_type": "code",
      "source": [
        "print(len(similarities))"
      ],
      "metadata": {
        "colab": {
          "base_uri": "https://localhost:8080/"
        },
        "id": "LjkB9BwVUVw4",
        "outputId": "671eb7d7-6eae-46c5-f83f-c1ed3fa818b5"
      },
      "execution_count": 50,
      "outputs": [
        {
          "output_type": "stream",
          "name": "stdout",
          "text": [
            "638\n"
          ]
        }
      ]
    },
    {
      "cell_type": "code",
      "source": [
        "def top_k_authors(similarities, author_papers, k):\n",
        "    sorted_indices = similarities.argsort()[::-1][:k]\n",
        "    top_authors = [author_papers[i]['author'] for i in sorted_indices]\n",
        "    return top_authors"
      ],
      "metadata": {
        "id": "Kk3UBsaaUfMr"
      },
      "execution_count": 51,
      "outputs": []
    },
    {
      "cell_type": "code",
      "source": [
        "k = 1\n",
        "top_authors = top_k_authors(similarities, author_papers, k)\n",
        "print(f'Top {k} authors: {top_authors}')"
      ],
      "metadata": {
        "colab": {
          "base_uri": "https://localhost:8080/"
        },
        "id": "faIc3-hJUiNR",
        "outputId": "2181ff82-1994-4518-f7c3-4373905c808c"
      },
      "execution_count": 52,
      "outputs": [
        {
          "output_type": "stream",
          "name": "stdout",
          "text": [
            "Top 1 authors: ['Om Prakash Patel']\n"
          ]
        }
      ]
    }
  ]
}